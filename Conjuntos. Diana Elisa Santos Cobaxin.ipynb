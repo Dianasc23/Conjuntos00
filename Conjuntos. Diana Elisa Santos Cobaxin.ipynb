{
 "cells": [
  {
   "cell_type": "markdown",
   "id": "4011e216",
   "metadata": {},
   "source": [
    "# Teoria de conjuntos con python"
   ]
  },
  {
   "cell_type": "markdown",
   "id": "9ef77dc9",
   "metadata": {},
   "source": [
    "La teoría de conjuntos es una rama de las matemáticas que estudia las propiedades y relaciones de los conjuntos. En Python, puedes aplicar los conceptos de la teoría de conjuntos utilizando la estructura de datos de conjuntos y las operaciones específicas que proporciona el lenguaje."
   ]
  },
  {
   "cell_type": "markdown",
   "id": "d1b1c66d",
   "metadata": {},
   "source": [
    "## Creación de conjuntos"
   ]
  },
  {
   "cell_type": "markdown",
   "id": "ef827f5b",
   "metadata": {},
   "source": [
    "En python puedes crear un conjunto utlizando llaves {} o la función set()"
   ]
  },
  {
   "cell_type": "code",
   "execution_count": null,
   "id": "12547920",
   "metadata": {},
   "outputs": [],
   "source": [
    "A = {1, 2, 3, 4, 5}"
   ]
  },
  {
   "cell_type": "code",
   "execution_count": null,
   "id": "0158f632",
   "metadata": {},
   "outputs": [],
   "source": [
    "B = {3, 4, 5, 6, 7}"
   ]
  },
  {
   "cell_type": "code",
   "execution_count": null,
   "id": "c8b64d4c",
   "metadata": {},
   "outputs": [],
   "source": [
    "C = set({3, 6, 9, 12, 15})"
   ]
  },
  {
   "cell_type": "markdown",
   "id": "635f8d83",
   "metadata": {},
   "source": [
    "## Lista vs conjunto "
   ]
  },
  {
   "cell_type": "code",
   "execution_count": 6,
   "id": "c42e0a2a",
   "metadata": {},
   "outputs": [],
   "source": [
    "lista = {1, 2, 3, 4, 5, 1, 2, 3, 4, 5}"
   ]
  },
  {
   "cell_type": "code",
   "execution_count": 7,
   "id": "844c0e56",
   "metadata": {
    "collapsed": true
   },
   "outputs": [
    {
     "data": {
      "text/plain": [
       "{1, 2, 3, 4, 5}"
      ]
     },
     "execution_count": 7,
     "metadata": {},
     "output_type": "execute_result"
    }
   ],
   "source": [
    "lista"
   ]
  },
  {
   "cell_type": "code",
   "execution_count": 8,
   "id": "74232e12",
   "metadata": {
    "collapsed": true
   },
   "outputs": [
    {
     "ename": "SyntaxError",
     "evalue": "invalid syntax (4271757041.py, line 1)",
     "output_type": "error",
     "traceback": [
      "\u001b[1;36m  Cell \u001b[1;32mIn[8], line 1\u001b[1;36m\u001b[0m\n\u001b[1;33m    Conjunto set({lista})\u001b[0m\n\u001b[1;37m             ^\u001b[0m\n\u001b[1;31mSyntaxError\u001b[0m\u001b[1;31m:\u001b[0m invalid syntax\n"
     ]
    }
   ],
   "source": [
    "Conjunto set({lista})"
   ]
  },
  {
   "cell_type": "code",
   "execution_count": 9,
   "id": "68cd4ff4",
   "metadata": {
    "collapsed": true
   },
   "outputs": [
    {
     "ename": "NameError",
     "evalue": "name 'Conjunto' is not defined",
     "output_type": "error",
     "traceback": [
      "\u001b[1;31m---------------------------------------------------------------------------\u001b[0m",
      "\u001b[1;31mNameError\u001b[0m                                 Traceback (most recent call last)",
      "Cell \u001b[1;32mIn[9], line 1\u001b[0m\n\u001b[1;32m----> 1\u001b[0m Conjunto\n",
      "\u001b[1;31mNameError\u001b[0m: name 'Conjunto' is not defined"
     ]
    }
   ],
   "source": [
    "Conjunto"
   ]
  },
  {
   "cell_type": "markdown",
   "id": "57dd868c",
   "metadata": {},
   "source": [
    "# Operaciones"
   ]
  },
  {
   "cell_type": "markdown",
   "id": "5d38ff9a",
   "metadata": {},
   "source": [
    "Python proporciona operadores y métodos para realizar operaciones básicas de conjuntos como unión, intersección, diferencia y diferencia asimétrica."
   ]
  },
  {
   "cell_type": "markdown",
   "id": "02dcb2bd",
   "metadata": {},
   "source": [
    "## Unión"
   ]
  },
  {
   "cell_type": "markdown",
   "id": "ab8711d1",
   "metadata": {},
   "source": [
    "Es la formación de un nuevo conjunto creado por dos o más conjuntos que pueden o no tener elementos en común. La simbología utilizada para representar la unión entre conjuntos es ∪.\n",
    "\n",
    "En este caso podemos ver que la unión de dos conjuntos A y B forman un conjunto compuesto por los elementos que pertenecen a A y los elementos que pertenecen a B.\n",
    "\n",
    "Lo anterior se lee de la siguiente manera: A unido a B, está formado por todos los elementos x, tal que x pertenece a A o x pertenece a B.\n",
    "\n",
    "Formula formal:\n",
    "\n",
    "C = A \\cup B = {x:x} \\in A \\quad o \\quad x \\in B\n",
    "\n",
    "En python la agrupación de unión puede utilizarse  utilizando el operador | o el método de unión()"
   ]
  },
  {
   "cell_type": "code",
   "execution_count": 12,
   "id": "4e1eafa9",
   "metadata": {
    "collapsed": true
   },
   "outputs": [
    {
     "ename": "NameError",
     "evalue": "name 'A' is not defined",
     "output_type": "error",
     "traceback": [
      "\u001b[1;31m---------------------------------------------------------------------------\u001b[0m",
      "\u001b[1;31mNameError\u001b[0m                                 Traceback (most recent call last)",
      "Cell \u001b[1;32mIn[12], line 1\u001b[0m\n\u001b[1;32m----> 1\u001b[0m A \u001b[38;5;241m|\u001b[39m B\n",
      "\u001b[1;31mNameError\u001b[0m: name 'A' is not defined"
     ]
    }
   ],
   "source": [
    "A | B"
   ]
  },
  {
   "cell_type": "code",
   "execution_count": 11,
   "id": "3a245507",
   "metadata": {
    "collapsed": true
   },
   "outputs": [
    {
     "ename": "NameError",
     "evalue": "name 'a' is not defined",
     "output_type": "error",
     "traceback": [
      "\u001b[1;31m---------------------------------------------------------------------------\u001b[0m",
      "\u001b[1;31mNameError\u001b[0m                                 Traceback (most recent call last)",
      "Cell \u001b[1;32mIn[11], line 1\u001b[0m\n\u001b[1;32m----> 1\u001b[0m a\u001b[38;5;241m.\u001b[39munion(b)\n",
      "\u001b[1;31mNameError\u001b[0m: name 'a' is not defined"
     ]
    }
   ],
   "source": [
    "a.union(b)"
   ]
  },
  {
   "cell_type": "markdown",
   "id": "4c9ef166",
   "metadata": {},
   "source": [
    "## Intersección"
   ]
  },
  {
   "attachments": {},
   "cell_type": "markdown",
   "id": "4d4869e2",
   "metadata": {},
   "source": [
    "La intersección de conjuntos es una operación que devuelve un nuevo conjunto que contiene únicamente los elementos comunes a dos o más conjuntos. Es decir, se seleccionan aquellos elementos que están presentes en todos los conjuntos involucrados en la operación de intersección.\n",
    "\n",
    "La propiedad de idempotencia establece que la intersección de un conjunto con sí mismo es igual al conjunto original. En otras palabras, al intersectar un conjunto consigo mismo, el resultado sigue siendo ese mismo conjunto.\n",
    "\n",
    "Además, si realizamos la intersección entre el conjunto universal \"U\" y uno de sus subconjuntos \"P\", el resultado será simplemente el subconjunto \"P\".\n",
    "\n",
    "En python la intersección puede utilizarse  utilizando el operador & o el método de interseción()"
   ]
  },
  {
   "cell_type": "code",
   "execution_count": null,
   "id": "e6c03bf7",
   "metadata": {},
   "outputs": [],
   "source": [
    "A & B"
   ]
  },
  {
   "cell_type": "code",
   "execution_count": null,
   "id": "8d560081",
   "metadata": {},
   "outputs": [],
   "source": [
    "A.intersection(B)"
   ]
  },
  {
   "cell_type": "markdown",
   "id": "49a6092c",
   "metadata": {},
   "source": [
    "## Diferencia "
   ]
  },
  {
   "attachments": {},
   "cell_type": "markdown",
   "id": "53a1fd59",
   "metadata": {},
   "source": [
    "La diferencia entre dos conjuntos A−B resulta en otro conjunto con los valores del primer conjunto menos los valores del segundo conjunto.\n",
    "\n",
    "Sean A y B dos conjuntos cualquiera. El conjunto diferencia de A y B, que se representa por A - B, es el conjunto formado por todos los elemntos que estan en A, pero no están en B.\n",
    "\n",
    "Sean A y B dos conjuntos. La diferencia de conjuntos A - B es: \n",
    "A - B = {x E A y x !E B}\n",
    " \n",
    "\n",
    "En Python se representa con el método difference(…) o con el operador - que representa la resta."
   ]
  },
  {
   "cell_type": "code",
   "execution_count": null,
   "id": "943527c2",
   "metadata": {},
   "outputs": [],
   "source": [
    "A - B"
   ]
  },
  {
   "cell_type": "code",
   "execution_count": null,
   "id": "68bddb1c",
   "metadata": {},
   "outputs": [],
   "source": [
    "A.difference(B)"
   ]
  },
  {
   "cell_type": "code",
   "execution_count": null,
   "id": "542f6e22",
   "metadata": {},
   "outputs": [],
   "source": [
    "B - A"
   ]
  },
  {
   "cell_type": "code",
   "execution_count": null,
   "id": "2a9416bd",
   "metadata": {},
   "outputs": [],
   "source": [
    "B.difference(A)"
   ]
  },
  {
   "cell_type": "markdown",
   "id": "b9c6bbde",
   "metadata": {},
   "source": [
    "## Diferencia simétrica"
   ]
  },
  {
   "cell_type": "markdown",
   "id": "f6fed3c5",
   "metadata": {},
   "source": [
    "Es el conjunto cuyos elementos son aquellos que pertenecen a alguno de los conjuntos iniciales, sin pertenecer a ambos a la vez.\n",
    "\n",
    "La diferencia simétrica de dos conjuntos A y B es el conjunto A Δ B. Aquí se incluyen todos los elementos que forman parte de A o de B, pero no de ambos a la vez.\n",
    "\n",
    "En Python, puedes calcular la diferencia simétrica entre dos conjuntos utilizando el operador de diferencia simétrica ^ o el método symmetric_difference(). "
   ]
  },
  {
   "cell_type": "code",
   "execution_count": null,
   "id": "b0e36c4e",
   "metadata": {},
   "outputs": [],
   "source": [
    "A ^ B"
   ]
  },
  {
   "cell_type": "code",
   "execution_count": null,
   "id": "23e7d47f",
   "metadata": {},
   "outputs": [],
   "source": [
    "A.symmetric_difference(B)"
   ]
  }
 ],
 "metadata": {
  "kernelspec": {
   "display_name": "Python 3 (ipykernel)",
   "language": "python",
   "name": "python3"
  },
  "language_info": {
   "codemirror_mode": {
    "name": "ipython",
    "version": 3
   },
   "file_extension": ".py",
   "mimetype": "text/x-python",
   "name": "python",
   "nbconvert_exporter": "python",
   "pygments_lexer": "ipython3",
   "version": "3.11.5"
  }
 },
 "nbformat": 4,
 "nbformat_minor": 5
}
